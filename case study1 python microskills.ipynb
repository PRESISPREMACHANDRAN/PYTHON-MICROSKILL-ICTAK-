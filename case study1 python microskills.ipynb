{
 "cells": [
  {
   "cell_type": "code",
   "execution_count": 14,
   "id": "a6cf221a",
   "metadata": {},
   "outputs": [],
   "source": [
    "#1. A school has following rules for grading system:\n",
    "#a. Below 25 - F\n",
    "#b. 25 to 45 - E\n",
    "#c. 45 to 50 - D\n",
    "#d. 50 to 60 - C\n",
    "#e. 60 to 80 - B\n",
    "#f. Above 80 - A\n",
    "#Ask user to enter marks and print the corresponding grade."
   ]
  },
  {
   "cell_type": "code",
   "execution_count": 15,
   "id": "64683dad",
   "metadata": {},
   "outputs": [
    {
     "name": "stdout",
     "output_type": "stream",
     "text": [
      "Enter your score67\n",
      "B\n"
     ]
    }
   ],
   "source": [
    "score = input(\"Enter your score\")\n",
    "\n",
    "score = int(score)\n",
    "\n",
    "if score < 25:  \n",
    "\n",
    "   print(\"F\")\n",
    "\n",
    "elif score >= 25 and score < 45:  \n",
    "\n",
    "   print(\"E\")\n",
    "\n",
    "elif score >= 45 and score < 50:  \n",
    "\n",
    "   print(\"D\")\n",
    "\n",
    "elif score >= 50 and score < 60:  \n",
    "\n",
    "   print(\"C\")\n",
    "\n",
    "elif score >= 60 and score < 80:  \n",
    "\n",
    "   print(\"B\")\n",
    "\n",
    "else:  \n",
    "\n",
    "   print(\"A\")"
   ]
  },
  {
   "cell_type": "code",
   "execution_count": 2,
   "id": "38d3dbd0",
   "metadata": {},
   "outputs": [],
   "source": [
    "#2. You have a list of names. Create a new list which contains only the names with non-repeating characters.\n",
    "#Sample input = [‘John’,’Peter’,’Meera’,’Mini’,’Krishna’]\n",
    "#Sample output = [‘John’,Krishna]"
   ]
  },
  {
   "cell_type": "code",
   "execution_count": 16,
   "id": "cd82d73b",
   "metadata": {},
   "outputs": [],
   "source": [
    "#Take values of length and breadth of a rectangle from user and check if it is square or not."
   ]
  },
  {
   "cell_type": "code",
   "execution_count": 4,
   "id": "da31f725",
   "metadata": {},
   "outputs": [
    {
     "name": "stdout",
     "output_type": "stream",
     "text": [
      "enter the length of the figure4\n",
      "enter the breadth of the figure7\n",
      "the figure is not a square\n"
     ]
    }
   ],
   "source": [
    "a=int(input(\"enter the length of the figure\"))\n",
    "\n",
    "b=int(input(\"enter the breadth of the figure\"))\n",
    "\n",
    "if a==b:\n",
    "\n",
    "  print(\"the figure is a square\")\n",
    "\n",
    "else:\n",
    "\n",
    "  print(\"the figure is not a square\")"
   ]
  },
  {
   "cell_type": "code",
   "execution_count": 17,
   "id": "5eb7043a",
   "metadata": {},
   "outputs": [],
   "source": [
    "#4. A student will not be allowed to sit in exam if his/her attendance is less than 75%. Take following input from user Number of classes held Number of classes attended. And print percentage of class attended Is student is allowed to sit in exam or not."
   ]
  },
  {
   "cell_type": "code",
   "execution_count": 6,
   "id": "96429424",
   "metadata": {},
   "outputs": [
    {
     "name": "stdout",
     "output_type": "stream",
     "text": [
      "67\n",
      "45\n",
      "Attandance is 67.16417910447761\n",
      "Not allowed to sit in Exam\n"
     ]
    }
   ],
   "source": [
    "cls_held = int(input()) #taking number of classes held as input\n",
    "\n",
    "cls_att = int(input())    #taking number of classes attended as input\n",
    "\n",
    "#calculating percentage of classes attended\n",
    "\n",
    "attended = (cls_att/cls_held) * 100\n",
    "\n",
    "#printing the percentage of classes attended\n",
    "\n",
    "print(\"Attandance is\",attended)\n",
    "\n",
    "#checking whether attandance is greater than 75 and printing the same\n",
    "\n",
    "if attended>75:\n",
    "\n",
    "   print(\"Allowed to sit in Exam\")\n",
    "\n",
    "else:\n",
    "\n",
    "   print(\"Not allowed to sit in Exam\")"
   ]
  },
  {
   "cell_type": "code",
   "execution_count": 1,
   "id": "89c17e4a",
   "metadata": {},
   "outputs": [],
   "source": [
    "#5. Create a list by taking length of the list and elements of the list from user. Then find the sum of the elements of the list. Also create a new called even list which contains only even numbers from first list and odd list which contains odd numbers from the list.\n",
    "#Sample input:\n",
    "#Length of the list = 5\n",
    "#List1 = [2,6,3,1,5]\n",
    "#Sum = 17\n",
    "#Even_list=[2,6]\n",
    "#Odd_list=[3,1,5]"
   ]
  },
  {
   "cell_type": "code",
   "execution_count": 2,
   "id": "ef2732bf",
   "metadata": {},
   "outputs": [
    {
     "name": "stdout",
     "output_type": "stream",
     "text": [
      "Even numbers in the list:  3\n",
      "Odd numbers in the list:  4\n"
     ]
    }
   ],
   "source": [
    "# list of numbers\n",
    "list1 = [10, 21, 4, 45, 66, 93, 1]\n",
    " \n",
    "even_count, odd_count = 0, 0\n",
    " \n",
    "# iterating each number in list\n",
    "for num in list1:\n",
    " \n",
    "    # checking condition\n",
    "    if num % 2 == 0:\n",
    "        even_count += 1\n",
    " \n",
    "    else:\n",
    "        odd_count += 1\n",
    " \n",
    "print(\"Even numbers in the list: \", even_count)\n",
    "print(\"Odd numbers in the list: \", odd_count)"
   ]
  },
  {
   "cell_type": "code",
   "execution_count": 3,
   "id": "26078724",
   "metadata": {},
   "outputs": [],
   "source": [
    "#Create a sample chatbot for an ecommerce website."
   ]
  },
  {
   "cell_type": "code",
   "execution_count": 4,
   "id": "e79cf48e",
   "metadata": {},
   "outputs": [],
   "source": [
    "#Write a program to find the roots of a quadratic equation. Get the co-efficients of quadratic equation ax^2+bx+c and display whether the roots are real and equal or real and distinct or roots are imaginary. You have to find the roots and display it as well."
   ]
  },
  {
   "cell_type": "code",
   "execution_count": 7,
   "id": "dbe117db",
   "metadata": {},
   "outputs": [
    {
     "name": "stdout",
     "output_type": "stream",
     "text": [
      "Roots are real and different \n",
      "4.0\n",
      "3.0\n"
     ]
    }
   ],
   "source": [
    "import math\n",
    " \n",
    "# Prints roots of quadratic equation\n",
    "# ax*2 + bx + x\n",
    "def findRoots(a, b, c):\n",
    " \n",
    "    # If a is 0, then equation is\n",
    "    # not quadratic, but linear\n",
    "    if a == 0:\n",
    "        print(\"Invalid\")\n",
    "        return -1\n",
    "    d = b * b - 4 * a * c\n",
    "    sqrt_val = math.sqrt(abs(d))\n",
    " \n",
    "    if d > 0:\n",
    "        print(\"Roots are real and different \")\n",
    "        print((-b + sqrt_val)/(2 * a))\n",
    "        print((-b - sqrt_val)/(2 * a))\n",
    "    elif d == 0:\n",
    "        print(\"Roots are real and same\")\n",
    "        print(-b / (2*a))\n",
    "    else:  # d<0\n",
    "        print(\"Roots are complex\")\n",
    "        print(- b / (2*a), \" + i\", sqrt_val / (2 * a))\n",
    "        print(- b / (2*a), \" - i\", sqrt_val / (2 * a))\n",
    "        \n",
    "    # Driver Program\n",
    "if __name__ == '__main__':\n",
    "    a = 1\n",
    "    b = -7\n",
    "    c = 12\n",
    "     \n",
    "    # Function call\n",
    "    findRoots(a, b, c)\n",
    " "
   ]
  },
  {
   "cell_type": "code",
   "execution_count": 8,
   "id": "1c2773e8",
   "metadata": {},
   "outputs": [
    {
     "ename": "SyntaxError",
     "evalue": "invalid syntax (2321056168.py, line 1)",
     "output_type": "error",
     "traceback": [
      "\u001b[1;36m  File \u001b[1;32m\"C:\\Users\\jines\\AppData\\Local\\Temp\\ipykernel_30348\\2321056168.py\"\u001b[1;36m, line \u001b[1;32m1\u001b[0m\n\u001b[1;33m    Given a range of first 10 numbers, write a Python program to iterate from start number to the end number and print the sum of the current number and previous number.\u001b[0m\n\u001b[1;37m          ^\u001b[0m\n\u001b[1;31mSyntaxError\u001b[0m\u001b[1;31m:\u001b[0m invalid syntax\n"
     ]
    }
   ],
   "source": [
    "#Given a range of first 10 numbers, write a Python program to iterate from start number to the end number and print the sum of the current number and previous number.\n",
    "#Sample input: 1….10\n",
    "Sample output: Current Number 1 Previous Number 0 Sum: 1\n",
    "Current Number 2 Previous Number 1 Sum: 3\n",
    "Current Number 3 Previous Number 2 Sum: 5…\n",
    "…….\n",
    "Current Number 10 Previous Number 9 Sum: 19"
   ]
  },
  {
   "cell_type": "code",
   "execution_count": 9,
   "id": "e58b96a0",
   "metadata": {},
   "outputs": [
    {
     "name": "stdout",
     "output_type": "stream",
     "text": [
      "Current Number 0Previous Number 0is 0\n",
      "Current Number 1Previous Number 0is 1\n",
      "Current Number 2Previous Number 1is 3\n",
      "Current Number 3Previous Number 2is 5\n",
      "Current Number 4Previous Number 3is 7\n",
      "Current Number 5Previous Number 4is 9\n",
      "Current Number 6Previous Number 5is 11\n",
      "Current Number 7Previous Number 6is 13\n",
      "Current Number 8Previous Number 7is 15\n",
      "Current Number 9Previous Number 8is 17\n"
     ]
    }
   ],
   "source": [
    "num = list(range(10))\n",
    "previousNum = 0\n",
    "for i in num:\n",
    "    sum = previousNum + i\n",
    "    print('Current Number '+ str(i) + 'Previous Number ' + str(previousNum) + 'is ' + str(sum)) # <- This is the issue.\n",
    "    previousNum=i"
   ]
  },
  {
   "cell_type": "code",
   "execution_count": 10,
   "id": "4da7df74",
   "metadata": {},
   "outputs": [],
   "source": [
    "#Write a Python program to find the prime numbers in a given range. Get the range from user and print prime numbers in that range."
   ]
  },
  {
   "cell_type": "code",
   "execution_count": 11,
   "id": "1fd2f895",
   "metadata": {},
   "outputs": [
    {
     "name": "stdout",
     "output_type": "stream",
     "text": [
      "Please, Enter the Lowest Range Value: 11\n",
      "Please, Enter the Upper Range Value: 111\n",
      "The Prime Numbers in the range are: \n",
      "11\n",
      "13\n",
      "17\n",
      "19\n",
      "23\n",
      "29\n",
      "31\n",
      "37\n",
      "41\n",
      "43\n",
      "47\n",
      "53\n",
      "59\n",
      "61\n",
      "67\n",
      "71\n",
      "73\n",
      "79\n",
      "83\n",
      "89\n",
      "97\n",
      "101\n",
      "103\n",
      "107\n",
      "109\n"
     ]
    }
   ],
   "source": [
    "lower_value = int(input (\"Please, Enter the Lowest Range Value: \"))  \n",
    "upper_value = int(input (\"Please, Enter the Upper Range Value: \"))  \n",
    "  \n",
    "print (\"The Prime Numbers in the range are: \")  \n",
    "for number in range (lower_value, upper_value + 1):  \n",
    "    if number > 1:  \n",
    "        for i in range (2, number):  \n",
    "            if (number % i) == 0:  \n",
    "                break  \n",
    "        else:  \n",
    "            print (number) "
   ]
  },
  {
   "cell_type": "code",
   "execution_count": 12,
   "id": "227fd628",
   "metadata": {},
   "outputs": [],
   "source": [
    "#Write a Python program to print Fibonacci series in a given range. Get the range from user and print fibonacci numbers in that range."
   ]
  },
  {
   "cell_type": "code",
   "execution_count": 13,
   "id": "69f21928",
   "metadata": {},
   "outputs": [
    {
     "name": "stdout",
     "output_type": "stream",
     "text": [
      "How many terms the user wants to print? 11\n",
      "The fibonacci sequence of the numbers is:\n",
      "0\n",
      "1\n",
      "1\n",
      "2\n",
      "3\n",
      "5\n",
      "8\n",
      "13\n",
      "21\n",
      "34\n",
      "55\n"
     ]
    }
   ],
   "source": [
    "n_terms = int(input (\"How many terms the user wants to print? \"))  \n",
    "  \n",
    "# First two terms  \n",
    "n_1 = 0  \n",
    "n_2 = 1  \n",
    "count = 0  \n",
    "  \n",
    "# Now, we will check if the number of terms is valid or not  \n",
    "if n_terms <= 0:  \n",
    "    print (\"Please enter a positive integer, the given number is not valid\")  \n",
    "# if there is only one term, it will return n_1  \n",
    "elif n_terms == 1:  \n",
    "    print (\"The Fibonacci sequence of the numbers up to\", n_terms, \": \")  \n",
    "    print(n_1)  \n",
    "# Then we will generate Fibonacci sequence of number  \n",
    "else:  \n",
    "    print (\"The fibonacci sequence of the numbers is:\")  \n",
    "    while count < n_terms:  \n",
    "        print(n_1)  \n",
    "        nth = n_1 + n_2  \n",
    "       # At last, we will update values  \n",
    "        n_1 = n_2  \n",
    "        n_2 = nth  \n",
    "        count += 1  "
   ]
  },
  {
   "cell_type": "code",
   "execution_count": null,
   "id": "f3ab646e",
   "metadata": {},
   "outputs": [],
   "source": []
  }
 ],
 "metadata": {
  "kernelspec": {
   "display_name": "Python 3 (ipykernel)",
   "language": "python",
   "name": "python3"
  },
  "language_info": {
   "codemirror_mode": {
    "name": "ipython",
    "version": 3
   },
   "file_extension": ".py",
   "mimetype": "text/x-python",
   "name": "python",
   "nbconvert_exporter": "python",
   "pygments_lexer": "ipython3",
   "version": "3.8.15"
  }
 },
 "nbformat": 4,
 "nbformat_minor": 5
}
