{
 "cells": [
  {
   "cell_type": "markdown",
   "id": "186864f0",
   "metadata": {},
   "source": [
    "# (1) Write a Python Program to accept the details of a student like name, roll number and mark and display it.\n",
    "Sample input: Enter the name: Anisha\n",
    "Enter the roll number: 21\n",
    "Enter the mark: 78\n",
    "Sample output:\n",
    "Name: Anisha\n",
    "Roll No: 21\n",
    "Mark: 78"
   ]
  },
  {
   "cell_type": "code",
   "execution_count": 33,
   "id": "aa530bb1",
   "metadata": {},
   "outputs": [
    {
     "name": "stdout",
     "output_type": "stream",
     "text": [
      "Enter the name : Anisha\n",
      "Enter the roll number : 21\n",
      "Enter the mark : 78\n"
     ]
    }
   ],
   "source": [
    "#sample input\n",
    "name=input('Enter the name : ')\n",
    "roll_number=int(input('Enter the roll number : '))\n",
    "mark=int(input('Enter the mark : '))"
   ]
  },
  {
   "cell_type": "code",
   "execution_count": 35,
   "id": "a77c6ac4",
   "metadata": {},
   "outputs": [
    {
     "name": "stdout",
     "output_type": "stream",
     "text": [
      "Name: Anisha\n",
      "Roll NO: 21\n",
      "Mark: 78\n"
     ]
    }
   ],
   "source": [
    "#sample output\n",
    "print(\"Name:\",name)\n",
    "print(\"Roll NO:\" ,roll_number)\n",
    "print(\"Mark:\" ,mark)"
   ]
  },
  {
   "cell_type": "markdown",
   "id": "cf047cc4",
   "metadata": {},
   "source": [
    "(Q2)Write a Python program to convert temperatures to and from Celsius\n",
    "Fahrenheit. \n",
    "[Formula: c/5=f-32/9 where c=temperature in Celsius and f=\n",
    "temperature in Fahrenheit.] Sample input: Temperature in Fahrenheit =41\n",
    "Sample output: Temperature in Celsius =5\n"
   ]
  },
  {
   "cell_type": "code",
   "execution_count": null,
   "id": "fdb902b0",
   "metadata": {},
   "outputs": [],
   "source": [
    "#Celsius = (Fahrenheit – 32) * 5/9\n",
    "#Fahrenheit = (Celsius * 9/5) + 32"
   ]
  },
  {
   "cell_type": "code",
   "execution_count": 3,
   "id": "a2d9d617",
   "metadata": {},
   "outputs": [
    {
     "name": "stdout",
     "output_type": "stream",
     "text": [
      "Enter temperature in celsius: 5\n",
      "5.00 Celsius is: 41.00 Fahrenheit\n"
     ]
    }
   ],
   "source": [
    "#Program to Convert Celsius To Fahrenheit\n",
    "c = float(input(\"Enter temperature in celsius: \"))\n",
    "f= (c* 9/5) + 32\n",
    "print('%.2f Celsius is: %0.2f Fahrenheit' %(c, f))"
   ]
  },
  {
   "cell_type": "code",
   "execution_count": 4,
   "id": "fec09507",
   "metadata": {},
   "outputs": [
    {
     "name": "stdout",
     "output_type": "stream",
     "text": [
      "Enter temperature in fahrenheit: 41\n",
      "41.00 Fahrenheit is: 5.00 Celsius\n"
     ]
    }
   ],
   "source": [
    "#Program to Convert Fahrenheit to Celsius\n",
    "f = float(input(\"Enter temperature in fahrenheit: \"))\n",
    "c= (f - 32) * 5/9\n",
    "print('%.2f Fahrenheit is: %0.2f Celsius' %(f, c))"
   ]
  },
  {
   "cell_type": "markdown",
   "id": "6d066b8b",
   "metadata": {},
   "source": [
    "# (Q3) Write a Python program to accept two numbers from the user and display its product.\n"
   ]
  },
  {
   "cell_type": "code",
   "execution_count": 30,
   "id": "38da09df",
   "metadata": {},
   "outputs": [
    {
     "name": "stdout",
     "output_type": "stream",
     "text": [
      "Enter first number7\n",
      "Enter second number8\n",
      "56\n"
     ]
    }
   ],
   "source": [
    "a=int(input('Enter first number'))\n",
    "b=int(input('Enter second number'))\n",
    "c=a*b\n",
    "print(c)"
   ]
  },
  {
   "cell_type": "markdown",
   "id": "9ff8789c",
   "metadata": {},
   "source": [
    "(Q4)Write a Python program to accept a string “Learn Python by Developing a\n",
    "Website” and display the string like “Learn**Python** by Developing a\n",
    "**Website**”"
   ]
  },
  {
   "cell_type": "code",
   "execution_count": 47,
   "id": "a8925d0b",
   "metadata": {},
   "outputs": [
    {
     "name": "stdout",
     "output_type": "stream",
     "text": [
      "Learn\u001b[1mPython\u001b[0;0m by Developing a \u001b[1mWebsite\u001b[0;0m\n"
     ]
    }
   ],
   "source": [
    "start = \"\\033[1m\"\n",
    "end = \"\\033[0;0m\"\n",
    "print (\"Learn\" + start + \"Python\" + end + \" by Developing a \"+start + \"Website\" + end )"
   ]
  },
  {
   "cell_type": "markdown",
   "id": "d3f485f8",
   "metadata": {},
   "source": [
    "# (Q5)Write a Python program to accept the radius of a circle and display its area."
   ]
  },
  {
   "cell_type": "code",
   "execution_count": 38,
   "id": "301bc9a6",
   "metadata": {},
   "outputs": [
    {
     "name": "stdout",
     "output_type": "stream",
     "text": [
      "enter the radious of circle: 5\n",
      "Area is  78.53981633974483\n"
     ]
    }
   ],
   "source": [
    "import math\n",
    "r=int(input('enter the radious of circle: '))\n",
    "print('Area is ',math.pi*r**2)"
   ]
  },
  {
   "cell_type": "code",
   "execution_count": null,
   "id": "c658ed8e",
   "metadata": {},
   "outputs": [],
   "source": []
  },
  {
   "cell_type": "markdown",
   "id": "6f07ce07",
   "metadata": {},
   "source": [
    "(Q6)Python program to insert a number to any position in a list (Get the number to\n",
    "be inserted and position from the user)\n"
   ]
  },
  {
   "cell_type": "code",
   "execution_count": 5,
   "id": "b5174ea3",
   "metadata": {},
   "outputs": [
    {
     "name": "stdout",
     "output_type": "stream",
     "text": [
      "Enter 5 Elements of List: \n",
      "1\n",
      "9\n",
      "cat\n",
      "True\n",
      "7\n",
      "Enter an Element to Insert at End: \n",
      "4\n",
      "\n",
      "The New List is: \n",
      "['1', '9', 'cat', 'True', '7', '4']\n"
     ]
    }
   ],
   "source": [
    "print(\"Enter 5 Elements of List: \")\n",
    "nums = []\n",
    "for i in range(5):\n",
    "    nums.insert(i, input())\n",
    "print(\"Enter an Element to Insert at End: \")\n",
    "elem = input()\n",
    "nums.append(elem)\n",
    "print(\"\\nThe New List is: \")\n",
    "print(nums)"
   ]
  },
  {
   "cell_type": "markdown",
   "id": "1ec9ac20",
   "metadata": {},
   "source": [
    "(Q7)Write a program to rename a key city to a location in the following dictionary.\n",
    "sample_dict = { \"name\": \"John\", \"age\":5, \"salary\": 8000, \"city\": \"New York\"}\n"
   ]
  },
  {
   "cell_type": "code",
   "execution_count": 7,
   "id": "e15fa77b",
   "metadata": {},
   "outputs": [
    {
     "name": "stdout",
     "output_type": "stream",
     "text": [
      "{'name': 'Kelly', 'age': 25, 'salary': 8000, 'location': 'New york'}\n"
     ]
    }
   ],
   "source": [
    "sample_dict = {\n",
    "    \"name\": \"Kelly\",\n",
    "    \"age\": 25,\n",
    "    \"salary\": 8000,\n",
    "    \"city\": \"New york\"\n",
    "}\n",
    "\n",
    "sample_dict['location'] = sample_dict.pop('city')\n",
    "print(sample_dict)"
   ]
  },
  {
   "cell_type": "markdown",
   "id": "856ef298",
   "metadata": {},
   "source": [
    "(8) Write a Python program to change Brad’s salary to 8500 in the following\n",
    "dictionary.\n",
    "sample_dict = {\n",
    "'emp1': {'name': 'John', 'salary': 7500},\n",
    "'emp2': {'name': 'Emma', 'salary': 8000},\n",
    "'emp3': {'name': 'Brad', 'salary': 500}\n",
    "}"
   ]
  },
  {
   "cell_type": "code",
   "execution_count": 6,
   "id": "fc266a54",
   "metadata": {
    "scrolled": true
   },
   "outputs": [
    {
     "name": "stdout",
     "output_type": "stream",
     "text": [
      "{'emp1': {'name': 'Jhon', 'salary': 7500}, 'emp2': {'name': 'Emma', 'salary': 8000}, 'emp3': {'name': 'Brad', 'salary': 8500}}\n"
     ]
    }
   ],
   "source": [
    "sample_dict = {\n",
    "    'emp1': {'name': 'Jhon', 'salary': 7500},\n",
    "    'emp2': {'name': 'Emma', 'salary': 8000},\n",
    "    'emp3': {'name': 'Brad', 'salary': 6500}\n",
    "}\n",
    "\n",
    "sample_dict['emp3']['salary'] = 8500\n",
    "print(sample_dict)"
   ]
  },
  {
   "cell_type": "markdown",
   "id": "3943ee74",
   "metadata": {},
   "source": [
    "(Q9)Write a program to copy elements 43 and 54 from the following tuple into a\n",
    "new tuple. Given:\n",
    "tuple1 = (10, 20, 43, 54, 56, 68)"
   ]
  },
  {
   "cell_type": "code",
   "execution_count": 3,
   "id": "3323f011",
   "metadata": {},
   "outputs": [
    {
     "name": "stdout",
     "output_type": "stream",
     "text": [
      "(10, 20, 43, 54, 56, 68)\n",
      "(43, 54)\n"
     ]
    }
   ],
   "source": [
    "tuple1=10, 20, 43, 54, 56, 68\n",
    "print(tuple1)\n",
    "tuple1 = 43,54\n",
    "print(tuple1)"
   ]
  },
  {
   "cell_type": "markdown",
   "id": "e02c5a8e",
   "metadata": {},
   "source": [
    "(Q10)Counts the number of occurrences of item 50 from a tuple\n",
    "tuple1 = (50, 10, 60, 70, 50,83,567,50,81)"
   ]
  },
  {
   "cell_type": "code",
   "execution_count": 1,
   "id": "9a1c5dad",
   "metadata": {},
   "outputs": [
    {
     "name": "stdout",
     "output_type": "stream",
     "text": [
      "3\n"
     ]
    }
   ],
   "source": [
    "tuple1 = (50, 10, 60, 70, 50,83,567,50,81)\n",
    "print(tuple1.count(50))"
   ]
  },
  {
   "cell_type": "code",
   "execution_count": null,
   "id": "00c0ffb7",
   "metadata": {},
   "outputs": [],
   "source": []
  }
 ],
 "metadata": {
  "kernelspec": {
   "display_name": "Python 3 (ipykernel)",
   "language": "python",
   "name": "python3"
  },
  "language_info": {
   "codemirror_mode": {
    "name": "ipython",
    "version": 3
   },
   "file_extension": ".py",
   "mimetype": "text/x-python",
   "name": "python",
   "nbconvert_exporter": "python",
   "pygments_lexer": "ipython3",
   "version": "3.8.15"
  }
 },
 "nbformat": 4,
 "nbformat_minor": 5
}
