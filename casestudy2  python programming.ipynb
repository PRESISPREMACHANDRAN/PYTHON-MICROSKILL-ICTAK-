{
 "cells": [
  {
   "cell_type": "code",
   "execution_count": 1,
   "id": "bd5f3965",
   "metadata": {},
   "outputs": [],
   "source": [
    "#Write a Python function to sum all the numbers in a list. (Create a list and get list elements from user)\n"
   ]
  },
  {
   "cell_type": "code",
   "execution_count": 4,
   "id": "544ec881",
   "metadata": {},
   "outputs": [
    {
     "name": "stdout",
     "output_type": "stream",
     "text": [
      "The sum of my_list is 15\n"
     ]
    }
   ],
   "source": [
    "def sum_of_list(l):\n",
    "  total = 0\n",
    "  for val in l:\n",
    "    total = total + val\n",
    "  return total\n",
    "\n",
    "my_list = [1,3,5,2,4]\n",
    "print (\"The sum of my_list is\", sum_of_list(my_list))"
   ]
  },
  {
   "cell_type": "code",
   "execution_count": 5,
   "id": "5df49c7d",
   "metadata": {},
   "outputs": [],
   "source": [
    "#Write a Python function that checks whether a passed string is palindrome or not.\n"
   ]
  },
  {
   "cell_type": "code",
   "execution_count": 7,
   "id": "281a7d9b",
   "metadata": {},
   "outputs": [
    {
     "name": "stdout",
     "output_type": "stream",
     "text": [
      "False\n"
     ]
    }
   ],
   "source": [
    "def isPalindrome(string):\n",
    "    left_pos = 0\n",
    "    right_pos = len(string) - 1\n",
    "    \n",
    "    while right_pos >= left_pos:\n",
    "        if not string[left_pos] == string[right_pos]:\n",
    "            return False\n",
    "        left_pos += 1\n",
    "        right_pos -= 1\n",
    "    return True\n",
    "print(isPalindrome('bza')) "
   ]
  },
  {
   "cell_type": "code",
   "execution_count": 1,
   "id": "2029a2af",
   "metadata": {},
   "outputs": [],
   "source": [
    "#. Write a Python recursive function to find the Fibonacci series. Get the limit from the user\n"
   ]
  },
  {
   "cell_type": "code",
   "execution_count": null,
   "id": "52fc6d94",
   "metadata": {},
   "outputs": [],
   "source": []
  },
  {
   "cell_type": "code",
   "execution_count": 2,
   "id": "812f8ad0",
   "metadata": {},
   "outputs": [],
   "source": [
    "#Write a Python recursive function to print the multiplication table of given number"
   ]
  },
  {
   "cell_type": "code",
   "execution_count": null,
   "id": "940c97f5",
   "metadata": {},
   "outputs": [],
   "source": []
  },
  {
   "cell_type": "code",
   "execution_count": 3,
   "id": "d6529596",
   "metadata": {},
   "outputs": [],
   "source": [
    "#Define a function which counts vowels and consonant in a word."
   ]
  },
  {
   "cell_type": "code",
   "execution_count": null,
   "id": "bc75d554",
   "metadata": {},
   "outputs": [],
   "source": []
  },
  {
   "cell_type": "code",
   "execution_count": 4,
   "id": "71c70460",
   "metadata": {},
   "outputs": [],
   "source": [
    "#Define a function that accepts lowercase words and returns uppercase words."
   ]
  },
  {
   "cell_type": "code",
   "execution_count": null,
   "id": "3a3d8d22",
   "metadata": {},
   "outputs": [],
   "source": []
  },
  {
   "cell_type": "code",
   "execution_count": 5,
   "id": "3250fc4d",
   "metadata": {},
   "outputs": [],
   "source": [
    "#Write a Python program to remove ‘None’ values from a given list using the lambda function. Given input = [12, 0, None, 23, None, -55, 234, 89, None, 0, 6, -12] Expected output = [12, 0, 23, -55, 234, 89, 0, 6, -12]"
   ]
  },
  {
   "cell_type": "code",
   "execution_count": null,
   "id": "54a71c51",
   "metadata": {},
   "outputs": [],
   "source": []
  },
  {
   "cell_type": "code",
   "execution_count": null,
   "id": "f894da23",
   "metadata": {},
   "outputs": [],
   "source": []
  },
  {
   "cell_type": "code",
   "execution_count": 8,
   "id": "4d490021",
   "metadata": {},
   "outputs": [],
   "source": [
    "#Write a Rectangle class in Python language, allowing you to build a rectangle with length and width attributes.\n",
    "#a. Create a Perimeter() method to calculate the perimeter of the rectangle and a Area() method to calculate the area of the rectangle.\n",
    "#b. Create a method display() that display the length, width, perimeter and area of an object created using an instantiation on rectangle class.\n",
    "#c. Create a Parallelepiped child class inheriting from the Rectangle class and with a height attribute and another Volume() method to calculate the volume of the Parallelepiped."
   ]
  },
  {
   "cell_type": "code",
   "execution_count": 9,
   "id": "f9762074",
   "metadata": {},
   "outputs": [],
   "source": [
    "#Create a Python class called BankAccount which represents a bank account, having as attributes: accountNumber (numeric type), name (name of the account owner as string type), balance.\n",
    "#a. Create a constructor with parameters: accountNumber, name, balance.\n",
    "#b. Create a Deposit() method which manages the deposit actions.\n",
    "#c. Create a Withdrawal() method which manages withdrawals actions.\n",
    "#d. Create an bankFees() method to apply the bank fees with a percentage of 5% of the balance account.\n",
    "#e. Create a display() method to display account details.\n",
    "#f. Give the complete code for the BankAccount class."
   ]
  },
  {
   "cell_type": "code",
   "execution_count": null,
   "id": "1e550127",
   "metadata": {},
   "outputs": [],
   "source": []
  },
  {
   "cell_type": "code",
   "execution_count": null,
   "id": "dd4746ad",
   "metadata": {},
   "outputs": [],
   "source": []
  },
  {
   "cell_type": "code",
   "execution_count": null,
   "id": "287f2808",
   "metadata": {},
   "outputs": [],
   "source": [
    "#Create a base class rectangle with attributes length and breadth, methods area and perimeter.\n",
    "#a. Save the rectangle class as a python file rectangle.py file.\n",
    "#b. Open another python script and import the rectangle.py file.\n",
    "#c. In the newly created script derive a child class called Parallelepiped class inheriting from the Rectangle class and with a height attribute and another Volume() method to calculate the volume of the Parallelepiped.\n",
    "#d. Now create objects for parent class and child class in newly created script and access methods of parent class and child class.\n",
    "#(Upload the rectangle.py file and python script of question 10 as separate files in github and share the link Paatshala)"
   ]
  }
 ],
 "metadata": {
  "kernelspec": {
   "display_name": "Python 3 (ipykernel)",
   "language": "python",
   "name": "python3"
  },
  "language_info": {
   "codemirror_mode": {
    "name": "ipython",
    "version": 3
   },
   "file_extension": ".py",
   "mimetype": "text/x-python",
   "name": "python",
   "nbconvert_exporter": "python",
   "pygments_lexer": "ipython3",
   "version": "3.8.15"
  }
 },
 "nbformat": 4,
 "nbformat_minor": 5
}
